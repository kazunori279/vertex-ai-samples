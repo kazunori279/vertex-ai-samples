{
  "nbformat": 4,
  "nbformat_minor": 0,
  "metadata": {
    "colab": {
      "provenance": []
    },
    "kernelspec": {
      "name": "python3",
      "display_name": "Python 3"
    },
    "language_info": {
      "name": "python"
    }
  },
  "cells": [
    {
      "cell_type": "code",
      "execution_count": null,
      "metadata": {
        "id": "fsbQpUPpQ4BH"
      },
      "outputs": [],
      "source": [
        "# Copyright 2023 Google LLC\n",
        "#\n",
        "# Licensed under the Apache License, Version 2.0 (the \"License\");\n",
        "# you may not use this file except in compliance with the License.\n",
        "# You may obtain a copy of the License at\n",
        "#\n",
        "#     https://www.apache.org/licenses/LICENSE-2.0\n",
        "#\n",
        "# Unless required by applicable law or agreed to in writing, software\n",
        "# distributed under the License is distributed on an \"AS IS\" BASIS,\n",
        "# WITHOUT WARRANTIES OR CONDITIONS OF ANY KIND, either express or implied.\n",
        "# See the License for the specific language governing permissions and\n",
        "# limitations under the License."
      ]
    },
    {
      "cell_type": "markdown",
      "source": [
        "# Vertex AI Vector Search Quickstart"
      ],
      "metadata": {
        "id": "QHa16b1bQ_np"
      }
    },
    {
      "cell_type": "markdown",
      "source": [
        "### Prerequisites\n",
        "\n",
        "This tutorial requires a Google Cloud project that is linked with a billing account. To create a new project, take a look at [this document](https://cloud.google.com/vertex-ai/docs/start/cloud-environment) to create a project and setup a billing account for it."
      ],
      "metadata": {
        "id": "kQYJ6hXSm0HR"
      }
    },
    {
      "cell_type": "markdown",
      "source": [
        "### Choose the runtime environment\n",
        "\n",
        "This tutorial can be run on either Google Colab or [Vertex AI Workbench](https://cloud.google.com/vertex-ai-workbench).\n",
        "\n",
        "- To use Colab: Click [this link](https://colab.research.google.com/github/GoogleCloudPlatform/vertex-ai-samples/blob/main/notebooks/official/vector_search/vector_search_quickstart.ipynb) to open the tutorial in Colab.\n",
        "\n",
        "- To use Workbench:\n",
        "-- If it is the first time to use Workbench in your Google Cloud project, open [the Workbench console](https://console.cloud.google.com/vertex-ai/workbench) and click ENABLE button to enable Notebooks API\n",
        "-- Click [this link](https://console.cloud.google.com/vertex-ai/workbench/deploy-notebook?download_url=https://raw.githubusercontent.com/GoogleCloudPlatform/vertex-ai-samples/blob/main/notebooks/official/vector_search/vector_search_quickstart.ipynb),  and select an existing notebook or create a new notebook.\n"
      ],
      "metadata": {
        "id": "tC4i08xh5lQw"
      }
    },
    {
      "cell_type": "code",
      "source": [
        "ta"
      ],
      "metadata": {
        "id": "4wKBallLNdj9"
      },
      "execution_count": null,
      "outputs": []
    },
    {
      "cell_type": "markdown",
      "source": [
        "### How much will this cost?\n",
        "\n",
        "To go through this tutorial, it will cost roughly a few US dollars. The pricing of the Cloud services we will use in this tutorial are available in the following pages:\n",
        "\n",
        "- [Vertex AI Embeddings for Text](https://cloud.google.com/vertex-ai/pricing#generative_ai_models)\n",
        "- [Vertex AI Vector Search](https://cloud.google.com/vertex-ai/pricing#matchingengine)\n",
        "- [Cloud Storage](https://cloud.google.com/storage/pricing)\n",
        "- [Vertex AI Workbench](https://cloud.google.com/vertex-ai/pricing#notebooks) if you use one\n",
        "\n",
        "You can use the [Pricing Calculator](https://cloud.google.com/products/calculator) to generate a cost estimate based on your projected usage.\n",
        "\n",
        "### **Warning: delete your objects after the tutorial**\n",
        "\n",
        "In case you are using your own Cloud project, please make sure to delete all the Indexes, Index Endpoints and Cloud Storage buckets (and the Workbench instance is you use one) after finishing this tutorial. Otherwise the remaining assets would incur unexpected costs.\n"
      ],
      "metadata": {
        "id": "JVwslLQxnAdK"
      }
    },
    {
      "cell_type": "markdown",
      "source": [
        "## Setup\n",
        "\n",
        "Before get started with the Vertex AI services, we need to setup the following.\n",
        "\n",
        "* Install Python SDK\n",
        "* Environment variables\n",
        "* Authentication (Colab only)\n",
        "* Enable APIs\n",
        "* Set IAM permissions"
      ],
      "metadata": {
        "id": "k9uyNwTISc9u"
      }
    },
    {
      "cell_type": "markdown",
      "source": [
        "### Install the Vertex AI SDK\n",
        "\n",
        "Vertex AI and Cloud Storage APIs can be accessed with multiple ways including REST API and Python SDK. In this tutorial we will use the SDK."
      ],
      "metadata": {
        "id": "u8eMxpb6-0n4"
      }
    },
    {
      "cell_type": "code",
      "source": [
        "!pip install --upgrade --user google-cloud-aiplatform>=1.29.0 google-cloud-storage"
      ],
      "metadata": {
        "id": "7hUF_94TRTPb"
      },
      "execution_count": null,
      "outputs": []
    },
    {
      "cell_type": "markdown",
      "source": [
        "To use the newly installed packages in this Jupyter runtime, we need to restart the runtime. You can do this by running the cell below, which will restart the current kernel."
      ],
      "metadata": {
        "id": "Ga5MMFwHnn0l"
      }
    },
    {
      "cell_type": "code",
      "source": [
        "# Restart kernel after installs so that your environment can access the new packages\n",
        "import IPython\n",
        "\n",
        "app = IPython.Application.instance()\n",
        "app.kernel.do_shutdown(True)"
      ],
      "metadata": {
        "id": "UvGpAY5pRaQ5"
      },
      "execution_count": null,
      "outputs": []
    },
    {
      "cell_type": "markdown",
      "source": [
        "### Environment variables\n",
        "\n",
        "Sets environment variables. If asked, replace the following `[your-project-id]` with your project ID and run it."
      ],
      "metadata": {
        "id": "QnKVMQ7coUGQ"
      }
    },
    {
      "cell_type": "code",
      "source": [
        "# get project ID\n",
        "PROJECT_ID = ! gcloud config get project\n",
        "PROJECT_ID = PROJECT_ID[0]\n",
        "LOCATION = \"us-central1\"\n",
        "if PROJECT_ID == \"(unset)\":\n",
        "    print(f\"Please set the project ID manually below\")"
      ],
      "metadata": {
        "id": "HPfsNnW1e5mm"
      },
      "execution_count": null,
      "outputs": []
    },
    {
      "cell_type": "code",
      "source": [
        "# define project information\n",
        "if PROJECT_ID == \"(unset)\":\n",
        "  PROJECT_ID = \"[your-project-id]\" # @param {type:\"string\"}\n",
        "\n",
        "# generate an unique id for this session\n",
        "from datetime import datetime\n",
        "UID = datetime.now().strftime(\"%m%d%H%M\")"
      ],
      "metadata": {
        "id": "2C0lUcDGoW_x"
      },
      "execution_count": null,
      "outputs": []
    },
    {
      "cell_type": "markdown",
      "source": [
        "### Authentication (Colab only)\n",
        "\n",
        "If you are running this notebook on Colab, you will need to run the following cell authentication. This step is not required if you are using Vertex AI Workbench as it is pre-authenticated."
      ],
      "metadata": {
        "id": "bLEgrr3ORwJH"
      }
    },
    {
      "cell_type": "code",
      "source": [
        "import sys\n",
        "\n",
        "# if it's Colab runtime, authenticate the user with Google Cloud\n",
        "if 'google.colab' in sys.modules:\n",
        "    from google.colab import auth\n",
        "    auth.authenticate_user()"
      ],
      "metadata": {
        "id": "p9iGiaF7RgZs"
      },
      "execution_count": null,
      "outputs": []
    },
    {
      "cell_type": "markdown",
      "source": [
        "### Enable APIs\n",
        "\n",
        "Run the following to enable APIs for Compute Engine, Vertex AI, Cloud Storage with this Google Cloud project."
      ],
      "metadata": {
        "id": "8hIbkmLEn2Z_"
      }
    },
    {
      "cell_type": "code",
      "source": [
        "! gcloud services enable compute.googleapis.com aiplatform.googleapis.com storage.googleapis.com --project {PROJECT_ID}"
      ],
      "metadata": {
        "id": "tTga7JZen3bk"
      },
      "execution_count": null,
      "outputs": []
    },
    {
      "cell_type": "markdown",
      "source": [],
      "metadata": {
        "id": "08ylzWapgKBw"
      }
    },
    {
      "cell_type": "markdown",
      "source": [
        "### Set IAM permissions\n",
        "\n",
        "Also, we need to add access permissions to the default service account for using those services.\n",
        "\n",
        "- Go to [the IAM page](https://console.cloud.google.com/iam-admin/) in the Console\n",
        "- Look for the principal for default compute service account. It should look like: `<project-number>-compute@developer.gserviceaccount.com`\n",
        "- Click the edit button at right and assign the default compute service account with `Vertex AI User` and `Storage Admin`.\n"
      ],
      "metadata": {
        "id": "HPd9NaBxn7ho"
      }
    },
    {
      "cell_type": "markdown",
      "source": [
        "## Prepare the sample data\n",
        "\n",
        "In this tutorial, we will use [TheLook dataset](https://console.cloud.google.com/marketplace/product/bigquery-public-data/thelook-ecommerce) that has a [products](bigquery-public-data.thelook_ecommerce.products) table with about 30,000 rows of synthetic product data for a fictious e-commerce clothing site.\n",
        "\n",
        "![](https://storage.googleapis.com/github-repo/img/embeddings/vs-quickstart/products-table.png)\n",
        "\n",
        "From this table, we have prepared the `product-embs.json` file.\n",
        "\n",
        "![](https://storage.googleapis.com/github-repo/img/embeddings/vs-quickstart/product-embs-json.png)\n",
        "\n",
        "This file is in JSONL format and each row has `id` for the product id, `name` for the product name, and `embedding` for the embedding of the product name in 768 dimensions which was generated previously with [Vertex AI Embeddings for Text](https://cloud.google.com/vertex-ai/docs/generative-ai/embeddings/get-text-embeddings).\n",
        "\n",
        "The text embeddings represent the meaning of the clothing product names. In this tutorial, we will use Vector Search for completing a [semantic search](https://en.wikipedia.org/wiki/Semantic_search) of the items. This sample code can be used as a basis for other simple recommendation system where you can quickly find \"other products similar to this one\".\n",
        "\n"
      ],
      "metadata": {
        "id": "Z-c1kR7nSO80"
      }
    },
    {
      "cell_type": "markdown",
      "source": [
        "### Prepare the data on Cloud Storage\n",
        "\n",
        "For building an index with Vector Search, we need to place the embedding file on a Cloud Storage bucket. The following code will:\n",
        "\n",
        "1. Create a Google Cloud Storage bucket.\n",
        "2. Copy the example file to your Cloud Storage bucket."
      ],
      "metadata": {
        "id": "xSGFr7oaowIm"
      }
    },
    {
      "cell_type": "code",
      "source": [
        "BUCKET_URI = f\"gs://{PROJECT_ID}-vs-quickstart-{UID}\""
      ],
      "metadata": {
        "id": "PXW704_AqzGT"
      },
      "execution_count": null,
      "outputs": []
    },
    {
      "cell_type": "code",
      "source": [
        "! gsutil mb -l $LOCATION -p $PROJECT_ID $BUCKET_URI\n",
        "! gsutil cp \"gs://github-repo/data/vs-quickstart/product-embs.json\" $BUCKET_URI"
      ],
      "metadata": {
        "id": "5Bs-iXHCcdAs"
      },
      "execution_count": null,
      "outputs": []
    },
    {
      "cell_type": "markdown",
      "source": [
        "For using Vector Search by running queries, we also need to copy the embedding file to local directory:"
      ],
      "metadata": {
        "id": "P4YeC_Jqo3ET"
      }
    },
    {
      "cell_type": "code",
      "source": [
        "! gsutil cp \"gs://github-repo/data/vs-quickstart/product-embs.json\" . # for query tests"
      ],
      "metadata": {
        "id": "yemCClOvpXFY"
      },
      "execution_count": null,
      "outputs": []
    },
    {
      "cell_type": "markdown",
      "source": [
        "## Build and Deploy a Vector Search Index\n",
        "\n",
        "### Create Index\n",
        "\n",
        "Now it's ready to load the embeddings to Vector Search. Its APIs are available under the [aiplatform](https://cloud.google.com/python/docs/reference/aiplatform/latest/google.cloud.aiplatform) package of the SDK."
      ],
      "metadata": {
        "id": "ysMTx4aoZVeX"
      }
    },
    {
      "cell_type": "code",
      "source": [
        "# init the aiplatform package\n",
        "from google.cloud import aiplatform\n",
        "aiplatform.init(project=PROJECT_ID, location=LOCATION)"
      ],
      "metadata": {
        "id": "Ouj2eqq_p8KA"
      },
      "execution_count": null,
      "outputs": []
    },
    {
      "cell_type": "markdown",
      "source": [
        "Create an [MatchingEngineIndex](https://cloud.google.com/python/docs/reference/aiplatform/latest/google.cloud.aiplatform.MatchingEngineIndex) with its `create_tree_ah_index` function (Matching Engine is the previous name of Vector Search)."
      ],
      "metadata": {
        "id": "ntsHYfR2p_IP"
      }
    },
    {
      "cell_type": "code",
      "source": [
        "# create Index\n",
        "my_index = aiplatform.MatchingEngineIndex.create_tree_ah_index(\n",
        "    display_name = f\"vs-quickstart-index-{UID}\",\n",
        "    contents_delta_uri = BUCKET_URI,\n",
        "    dimensions = 768,\n",
        "    approximate_neighbors_count = 10,\n",
        ")"
      ],
      "metadata": {
        "id": "AwEsPjL5yxPK"
      },
      "execution_count": null,
      "outputs": []
    },
    {
      "cell_type": "markdown",
      "source": [
        "By calling the `create_tree_ah_index` function, it starts building an Index.  This will take under 10 minutes if the dataset is small, otherwise about 60 minutes or more depending on the size of the dataset. You can check status of the index creation on [the Vector Search Console > INDEXES tab](https://console.cloud.google.com/vertex-ai/matching-engine/indexes).\n",
        "\n",
        "#### The parameters for creating index\n",
        "\n",
        "- `contents_delta_uri`: The URI of Cloud Storage directory where you stored the embedding JSON files\n",
        "- `dimensions`: Dimension size of each embedding. In this case, it is 768 as we are using the embeddings from the Text Embeddings API.\n",
        "- `approximate_neighbors_count`: how many similar items we want to retrieve in typical cases\n",
        "\n",
        "See [the document](https://cloud.google.com/vertex-ai/docs/vector-search/create-manage-index) for more details on creating Index and the parameters."
      ],
      "metadata": {
        "id": "hSYZLtUWqUke"
      }
    },
    {
      "cell_type": "markdown",
      "source": [
        "### Create Index Endpoint and deploy the Index\n",
        "\n",
        "To use the Index, you need to create an [Index Endpoint](https://cloud.google.com/vertex-ai/docs/vector-search/deploy-index-public). It works as a server instance accepting query requests for your Index."
      ],
      "metadata": {
        "id": "hVhqRmHAZ98X"
      }
    },
    {
      "cell_type": "code",
      "source": [
        "# create IndexEndpoint\n",
        "my_index_endpoint = aiplatform.MatchingEngineIndexEndpoint.create(\n",
        "    display_name = f\"vs-quickstart-index-endpoint-{UID}\",\n",
        "    public_endpoint_enabled = True\n",
        ")"
      ],
      "metadata": {
        "id": "0yLJT925Z_xq"
      },
      "execution_count": null,
      "outputs": []
    },
    {
      "cell_type": "markdown",
      "source": [
        "With the Index Endpoint, deploy the Index by specifying an unique deployed index ID."
      ],
      "metadata": {
        "id": "Xvuoav-wqwZr"
      }
    },
    {
      "cell_type": "code",
      "source": [
        "DEPLOYED_INDEX_ID = f\"vs_quickstart_deployed_{UID}\""
      ],
      "metadata": {
        "id": "KVzk-ax_q3AL"
      },
      "execution_count": null,
      "outputs": []
    },
    {
      "cell_type": "code",
      "source": [
        "# deploy the Index to the Index Endpoint\n",
        "my_index_endpoint.deploy_index(\n",
        "    index = my_index, deployed_index_id = DEPLOYED_INDEX_ID\n",
        ")"
      ],
      "metadata": {
        "id": "xsVbHllsAZtr"
      },
      "execution_count": null,
      "outputs": []
    },
    {
      "cell_type": "markdown",
      "source": [
        "If it is the first time to deploy an Index to an Index Endpoint, it will take around 30 minutes to automatically build and initiate the backend for it. After the first deployment, it will finish in seconds. To see the status of the index deployment, open [the Vector Search Console > INDEX ENDPOINTS tab](https://console.cloud.google.com/vertex-ai/matching-engine/index-endpoints) and click the Index Endpoint."
      ],
      "metadata": {
        "id": "RBg5sPRYrJzS"
      }
    },
    {
      "cell_type": "markdown",
      "source": [
        "## Run a Query with Vector Search\n",
        "\n",
        "Finally it's ready to use Vector Search. In the following code, it finds an embedding for a specified product name, and find similar product names with the Vector Search."
      ],
      "metadata": {
        "id": "z2feyXkRaovq"
      }
    },
    {
      "cell_type": "markdown",
      "source": [
        "### Get an embedding to run a query\n",
        "\n",
        "First, load the embedding JSON file to build a dict of product names and embeddings."
      ],
      "metadata": {
        "id": "odT9GFb4Ad4r"
      }
    },
    {
      "cell_type": "code",
      "source": [
        "import json\n",
        "\n",
        "# build dicts for product names and embs\n",
        "product_names = {}\n",
        "product_embs = {}\n",
        "with open('product-embs.json') as f:\n",
        "    for l in f.readlines():\n",
        "        p = json.loads(l)\n",
        "        id = p['id']\n",
        "        product_names[id] = p['name']\n",
        "        product_embs[id] = p['embedding']"
      ],
      "metadata": {
        "id": "6_M2vOMOarvi"
      },
      "execution_count": null,
      "outputs": []
    },
    {
      "cell_type": "markdown",
      "source": [
        "With the `product_embs` dict, you can specify a product ID to get an embedding for it."
      ],
      "metadata": {
        "id": "e31HB8_tr0II"
      }
    },
    {
      "cell_type": "code",
      "source": [
        "# get the embedding for ID 6523 \"cloudveil women's excursion short\"\n",
        "# you can also try with other IDs such as 12711, 18090, 19536 and 11863\n",
        "query_emb = product_embs['6523']"
      ],
      "metadata": {
        "id": "yusFJLd954nH"
      },
      "execution_count": null,
      "outputs": []
    },
    {
      "cell_type": "markdown",
      "source": [
        "### Run a Query\n",
        "\n",
        "Pass the embedding to `find_neighbors` function to find similar product names."
      ],
      "metadata": {
        "id": "iBoEWB3TAsJp"
      }
    },
    {
      "cell_type": "code",
      "source": [
        "# run query\n",
        "response = my_index_endpoint.find_neighbors(\n",
        "    deployed_index_id = DEPLOYED_INDEX_ID,\n",
        "    queries = [query_emb],\n",
        "    num_neighbors = 10\n",
        ")\n",
        "\n",
        "# show the results\n",
        "for idx, neighbor in enumerate(response[0]):\n",
        "    print(f\"{neighbor.distance:.2f} {product_names[neighbor.id]}\")"
      ],
      "metadata": {
        "id": "bUnjsDkWbMAa"
      },
      "execution_count": null,
      "outputs": []
    },
    {
      "cell_type": "markdown",
      "source": [
        "The `find_neighbors` function only takes milliseconds to fetch the similar items even when you have billions of items on the Index, thanks to the ScaNN algorithm. Vector Search also supports [autoscaling](https://cloud.google.com/vertex-ai/docs/vector-search/deploy-index-public#autoscaling) which can automatically resize the number of nodes based on the demands of your workloads."
      ],
      "metadata": {
        "id": "o_sXlLpysUtf"
      }
    },
    {
      "cell_type": "markdown",
      "source": [
        "# IMPORTANT: Cleaning Up\n",
        "\n",
        "In case you are using your own Cloud project, not a temporary project on Qwiklab, please make sure to delete all the Indexes, Index Endpoints and Cloud Storage buckets after finishing this tutorial. Otherwise the remaining objects would **incur unexpected costs**.\n",
        "\n",
        "If you used Workbench, you may also need to delete the Notebooks from [the console](https://console.cloud.google.com/vertex-ai/workbench)."
      ],
      "metadata": {
        "id": "gDmv_HkObedQ"
      }
    },
    {
      "cell_type": "code",
      "source": [
        "# wait for a confirmation\n",
        "input(\"Press Enter to delete Index Endpoint, Index and Cloud Storage bucket:\")\n",
        "\n",
        "# delete Index Endpoint\n",
        "my_index_endpoint.undeploy_all()\n",
        "my_index_endpoint.delete(force = True)\n",
        "\n",
        "# delete Index\n",
        "my_index.delete()\n",
        "\n",
        "# delete Cloud Storage bucket\n",
        "! gsutil rm -r {BUCKET_URI}"
      ],
      "metadata": {
        "id": "QhInCv3sscAH"
      },
      "execution_count": null,
      "outputs": []
    },
    {
      "cell_type": "markdown",
      "source": [
        "## Utilities\n",
        "\n",
        "It can take some time to create or deploy indexes, and in that time you might lose connection with the Colab runtime. If you lose connection, instead of creating or deploying your new index again, you can check [the Vector Search Console](https://console.cloud.google.com/vertex-ai/matching-engine/index-endpoints) and use the existing ones to continue.\n"
      ],
      "metadata": {
        "id": "F9OG7QbCmqqx"
      }
    },
    {
      "cell_type": "markdown",
      "source": [
        "### Get an existing Index\n",
        "\n",
        "To get an index object that already exists, replace the following `[your-index-id]` with the index ID and run the cell. You can check the ID on [the Vector Search Console > INDEXES tab](https://console.cloud.google.com/vertex-ai/matching-engine/indexes)."
      ],
      "metadata": {
        "id": "n8yeRRZrmyn1"
      }
    },
    {
      "cell_type": "code",
      "source": [
        "my_index_id = \"[your-index-id]\" # @param {type:\"string\"}\n",
        "my_index = aiplatform.MatchingEngineIndex(my_index_id)"
      ],
      "metadata": {
        "id": "cvdaNEw4mw2c"
      },
      "execution_count": null,
      "outputs": []
    },
    {
      "cell_type": "markdown",
      "source": [
        "### Get an existing Index Endpoint\n",
        "\n",
        "To get an index endpoint object that already exists, replace the following `[your-index-endpoint-id]` with the index endpoint ID and run the cell. You can check the ID on [the Vector Search Console > INDEX ENDPOINTS tab](https://console.cloud.google.com/vertex-ai/matching-engine/index-endpoints)."
      ],
      "metadata": {
        "id": "87N_WmeDnPaX"
      }
    },
    {
      "cell_type": "code",
      "source": [
        "my_index_endpoint_id = \"[your-index-endpoint-id]\" # @param {type:\"string\"}\n",
        "my_index_endpoint = aiplatform.MatchingEngineIndexEndpoint(my_index_endpoint_id)\n"
      ],
      "metadata": {
        "id": "YDz9ir72o44x"
      },
      "execution_count": null,
      "outputs": []
    }
  ]
}